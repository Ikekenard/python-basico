{
 "cells": [
  {
   "cell_type": "markdown",
   "metadata": {},
   "source": [
    "#  **<font color= Indigo> Intro Python** : \n"
   ]
  },
  {
   "cell_type": "markdown",
   "metadata": {},
   "source": [
    "## **<font color = Khaki> Iníciando na linguagem**"
   ]
  },
  {
   "cell_type": "markdown",
   "metadata": {},
   "source": [
    "### <font color= Khaki> **PRINT()**\n"
   ]
  },
  {
   "cell_type": "code",
   "execution_count": 1,
   "metadata": {},
   "outputs": [
    {
     "name": "stdout",
     "output_type": "stream",
     "text": [
      "Empilhamento Vertical:\n",
      " [[1 2 3]\n",
      " [4 5 6]\n",
      " [7 8 9]]\n",
      "Empilhamento Horizontal: [1 2 3 4 5 6 7 8 9]\n"
     ]
    }
   ],
   "source": [
    "import numpy as np\n",
    "\n",
    "# Suponha que você tenha três arrays a, b e c\n",
    "a = np.array([1, 2, 3])\n",
    "b = np.array([4, 5, 6])\n",
    "c = np.array([7, 8, 9])\n",
    "\n",
    "# Empilhamento vertical\n",
    "result_vertical = np.vstack((a, b, c))\n",
    "\n",
    "# Empilhamento horizontal\n",
    "result_horizontal = np.hstack((a, b, c))\n",
    "\n",
    "print(\"Empilhamento Vertical:\\n\", result_vertical)\n",
    "print(\"Empilhamento Horizontal:\", result_horizontal)\n"
   ]
  },
  {
   "cell_type": "code",
   "execution_count": 2,
   "metadata": {},
   "outputs": [
    {
     "name": "stdout",
     "output_type": "stream",
     "text": [
      "Combinação Horizontal: [1 2 3 4 5 6 7 8 9]\n",
      "Combinação Vertical: [1 2 3 4 5 6 7 8 9]\n"
     ]
    }
   ],
   "source": [
    "import numpy as np\n",
    "\n",
    "# Suponha que você tenha três arrays a, b e c\n",
    "a = np.array([1, 2, 3])\n",
    "b = np.array([4, 5, 6])\n",
    "c = np.array([7, 8, 9])\n",
    "\n",
    "# Combinação horizontal (ao longo das colunas)\n",
    "result_horizontal = np.concatenate((a, b, c))\n",
    "\n",
    "# Combinação vertical (ao longo das linhas)\n",
    "result_vertical = np.concatenate((a, b, c), axis=None)\n",
    "\n",
    "print(\"Combinação Horizontal:\", result_horizontal)\n",
    "print(\"Combinação Vertical:\", result_vertical)\n"
   ]
  },
  {
   "cell_type": "code",
   "execution_count": 14,
   "metadata": {},
   "outputs": [
    {
     "name": "stdout",
     "output_type": "stream",
     "text": [
      "Hello Wolrd\n",
      "10\n",
      "Ike 18\n"
     ]
    }
   ],
   "source": [
    "print(\"Hello Wolrd\")\n",
    "print(10)\n",
    "print(\"Ike\", 18)"
   ]
  },
  {
   "cell_type": "markdown",
   "metadata": {},
   "source": [
    "\n",
    "### **<font color= SandyBrown>Desafios com Print( )**"
   ]
  },
  {
   "cell_type": "markdown",
   "metadata": {
    "slideshow": {
     "slide_type": "subslide"
    }
   },
   "source": [
    "**Questão 1**\n",
    "\n",
    "Imprima a frase: \"Escola de Dados da Alura!\".\n",
    "\n"
   ]
  },
  {
   "cell_type": "code",
   "execution_count": 15,
   "metadata": {},
   "outputs": [
    {
     "name": "stdout",
     "output_type": "stream",
     "text": [
      "Escola de Dados Alura!\n"
     ]
    }
   ],
   "source": [
    "print(\"Escola de Dados Alura!\")"
   ]
  },
  {
   "cell_type": "markdown",
   "metadata": {},
   "source": [
    "**Questão 2**\n",
    "\n",
    "Imprima na tela seu nome e seu sobrenome seguindo a estrutura abaixo:\n",
    "\n"
   ]
  },
  {
   "cell_type": "code",
   "execution_count": 16,
   "metadata": {},
   "outputs": [
    {
     "name": "stdout",
     "output_type": "stream",
     "text": [
      "Nome: Ike Gabriel\n",
      "Sobrenome: Rodrigues de Kenard\n"
     ]
    }
   ],
   "source": [
    "print(\"Nome: Ike Gabriel\")\n",
    "print(\"Sobrenome: Rodrigues de Kenard\")\n"
   ]
  },
  {
   "cell_type": "markdown",
   "metadata": {},
   "source": [
    "**Questão 3**\n",
    "\n",
    "Imprima o seu primeiro nome letra a letra. Por exemplo, nome é Mirla, então eu obtenho a seguinte saída:\n",
    "\n",
    "M\n",
    "\n",
    "I\n",
    "\n",
    "R\n",
    "\n",
    "L\n",
    "\n",
    "A\n",
    "\n",
    "\n"
   ]
  },
  {
   "cell_type": "code",
   "execution_count": 17,
   "metadata": {},
   "outputs": [
    {
     "name": "stdout",
     "output_type": "stream",
     "text": [
      "I\n",
      "K\n",
      "E\n"
     ]
    }
   ],
   "source": [
    "print(\"I\", \"K\",\"E\",sep=\"\\n\")\n"
   ]
  },
  {
   "cell_type": "markdown",
   "metadata": {},
   "source": [
    "**Questão 4**\n",
    "\n",
    "Imprima o dia do seu nascimento em formato dia mês ano. Os valores de dia e ano não podem estar entre aspas. O formato deve estar como no exemplo, supondo uma data de aniversário dia 28 de fevereiro de 2003:\n",
    "\n",
    "\n"
   ]
  },
  {
   "cell_type": "code",
   "execution_count": 18,
   "metadata": {},
   "outputs": [
    {
     "name": "stdout",
     "output_type": "stream",
     "text": [
      "26 de junho de 2005\n"
     ]
    }
   ],
   "source": [
    "#Normal\n",
    "print(\"26\",\"de junho de\",2005)"
   ]
  },
  {
   "cell_type": "code",
   "execution_count": 19,
   "metadata": {},
   "outputs": [
    {
     "data": {
      "text/plain": [
       "'26. June 2005'"
      ]
     },
     "execution_count": 19,
     "metadata": {},
     "output_type": "execute_result"
    }
   ],
   "source": [
    "#Usando Biblioteca Data time\n",
    "from datetime import datetime, date\n",
    "\n",
    "dt = datetime.strptime(\"26/06/05\", \"%d/%m/%y\")\n",
    "dt.strftime(\"%d. %B %Y\")\n"
   ]
  },
  {
   "cell_type": "markdown",
   "metadata": {},
   "source": [
    "**Questão 5**\n",
    "\n",
    "\n",
    "\n",
    "Imprima em um único print o atual ano que você está fazendo esse curso, o valor do ano deve ser um dado numérico. A saída do print deve ser a seguinte:\n",
    "\n",
    "\n",
    "          Ano atual: [ano]\n"
   ]
  },
  {
   "cell_type": "code",
   "execution_count": 20,
   "metadata": {},
   "outputs": [
    {
     "name": "stdout",
     "output_type": "stream",
     "text": [
      "Ano atual: 2023\n"
     ]
    }
   ],
   "source": [
    "#Normal\n",
    "print(\"Ano atual: 2023\")"
   ]
  },
  {
   "cell_type": "code",
   "execution_count": 21,
   "metadata": {},
   "outputs": [
    {
     "name": "stdout",
     "output_type": "stream",
     "text": [
      "Ano atual: 2023\n",
      "Ano atual: 2023\n"
     ]
    }
   ],
   "source": [
    "#Usando Biblioteca Data time\n",
    "import datetime\n",
    "\n",
    "hoje = datetime.date.today()\n",
    "\n",
    "#acessando o atributo ano\n",
    "ano = hoje.year\n",
    "print(\"Ano atual:\", ano)\n",
    "\n",
    "#usando o metódo .now e strtime\n",
    "ano2 = datetime.datetime.now().strftime('%Y')\n",
    "\n",
    "print(\"Ano atual:\", ano2)\n"
   ]
  },
  {
   "cell_type": "markdown",
   "metadata": {},
   "source": [
    "## **<font color= cyan>Manipulando Dados**"
   ]
  },
  {
   "cell_type": "markdown",
   "metadata": {},
   "source": [
    "### **Coleta e amostragem de dados**\n"
   ]
  },
  {
   "cell_type": "markdown",
   "metadata": {},
   "source": [
    "**Questão 1** \n",
    "\n",
    "Crie um programa que solicite à pessoa usuária digitar seu nome, e imprima “Olá, [nome]!”."
   ]
  },
  {
   "cell_type": "code",
   "execution_count": 22,
   "metadata": {},
   "outputs": [
    {
     "name": "stdout",
     "output_type": "stream",
     "text": [
      "Olá \n"
     ]
    }
   ],
   "source": [
    "nome = input(\"Por favor informe seu nome: \")\n",
    "print(\"Olá\", nome)"
   ]
  },
  {
   "cell_type": "markdown",
   "metadata": {},
   "source": [
    "**Quetão 2**\n"
   ]
  },
  {
   "cell_type": "markdown",
   "metadata": {},
   "source": [
    "Crie um programa que solicite à pessoa usuária digitar seu nome e idade, e imprima “Olá, [nome], você tem [idade] anos.”.\n"
   ]
  },
  {
   "cell_type": "code",
   "execution_count": 6,
   "metadata": {},
   "outputs": [
    {
     "name": "stdout",
     "output_type": "stream",
     "text": [
      "Olá, ike você tem 10, anos\n"
     ]
    }
   ],
   "source": [
    "\n",
    "nome = input(\"Olá, por favor insira seu nome: \")\n",
    "idade = int(input(\"Por favor tambem informe a sua idade: \"))\n",
    "print(f\"Olá, {nome} você tem {idade} anos\")"
   ]
  },
  {
   "cell_type": "markdown",
   "metadata": {},
   "source": [
    "**Questão 3**\n",
    "\n",
    "Crie um programa que solicite à pessoa usuária digitar seu nome, idade e altura em metros, e imprima “Olá, [nome], você tem [idade] anos e mede [altura] metros!”.\n"
   ]
  },
  {
   "cell_type": "code",
   "execution_count": null,
   "metadata": {},
   "outputs": [
    {
     "name": "stdout",
     "output_type": "stream",
     "text": [
      "Olá, ike você tem 18 anos e mede 1.75 metros \n"
     ]
    }
   ],
   "source": [
    "\n",
    "nome = input(\"Olá, por favor insira seu nome: \")\n",
    "idade = int(input(\"Por favor tambem informe a sua idade: \"))\n",
    "altura = float(input(\"Digite sua altura em metros:\"))\n",
    "print(f\"Olá, {nome} você tem {idade} anos e mede {altura} metros \")"
   ]
  },
  {
   "cell_type": "markdown",
   "metadata": {},
   "source": [
    "### **Calculadora com operadores**\n"
   ]
  },
  {
   "cell_type": "markdown",
   "metadata": {},
   "source": [
    "**Questão 1**\n",
    "\n",
    "Crie um programa que solicite dois valores numéricos à pessoa usuária e imprima a soma dos dois valores.\n"
   ]
  },
  {
   "cell_type": "code",
   "execution_count": null,
   "metadata": {},
   "outputs": [
    {
     "name": "stdout",
     "output_type": "stream",
     "text": [
      "A soma dos valores descritos é igual a: 61.6\n"
     ]
    }
   ],
   "source": [
    "#Soma\n",
    "print(\"=== Realize uma soma ===\\n\")\n",
    "\n",
    "num1 = float(input(\"Insira um valor\"))\n",
    "num2 = float(input(\"Insira outro valor\"))\n",
    "soma = num1 + num2\n",
    "print(f'A soma dos valores descritos é igual a: {soma}')"
   ]
  },
  {
   "cell_type": "markdown",
   "metadata": {},
   "source": [
    "**Questão 2**\n",
    "\n",
    "Crie um programa que solicite três valores numéricos à pessoa usuária e imprima a soma dos três valores.\n"
   ]
  },
  {
   "cell_type": "code",
   "execution_count": null,
   "metadata": {},
   "outputs": [],
   "source": [
    "#Soma\n",
    "print(\"=== Realize uma soma ===\\n\")\n",
    "\n",
    "num1 = float(input(\"Insira um valor decimal\"))\n",
    "num2 = int(input(\"Insira um valor inteiro\"))\n",
    "num3 = int(input(\"Insira outro valor inteiro\"))\n",
    "\n",
    "soma = num1 + num2 + num3\n",
    "print(f'A soma dos valores descritos é igual a: {soma}')"
   ]
  },
  {
   "cell_type": "markdown",
   "metadata": {},
   "source": [
    "**Questão 3**\n",
    "\n",
    "Crie um programa que solicite dois valores numéricos à pessoa usuária e imprima a subtração do primeiro pelo o segundo valor.\n"
   ]
  },
  {
   "cell_type": "code",
   "execution_count": 12,
   "metadata": {},
   "outputs": [
    {
     "name": "stdout",
     "output_type": "stream",
     "text": [
      "A soma dos valores descritos é igual a: 3.0\n"
     ]
    }
   ],
   "source": [
    "#Subtração\n",
    "print(\"=== Realize uma subtração ===\\n\")\n",
    "\n",
    "num1 = float(input(\"Insira um valor\"))\n",
    "num2 = float(input(\"Insira outro valor\"))\n",
    "sub = num1 - num2\n",
    "print(f'A soma dos valores descritos é igual a: {sub}')"
   ]
  },
  {
   "cell_type": "markdown",
   "metadata": {},
   "source": [
    "**Questão 4**\n",
    "\n",
    "Crie um programa que solicite dois valores numéricos à pessoa usuária e imprima a multiplicação dos dois valores."
   ]
  },
  {
   "cell_type": "code",
   "execution_count": 13,
   "metadata": {},
   "outputs": [
    {
     "name": "stdout",
     "output_type": "stream",
     "text": [
      "A soma dos valores descritos é igual a: 3.0\n"
     ]
    }
   ],
   "source": [
    "#Multiplicação\n",
    "print(\"=== Realize uma multiplicação ===\\n\")\n",
    "\n",
    "num1 = float(input(\"Insira um valor\"))\n",
    "num2 = float(input(\"Insira outro valor\"))\n",
    "mult = num1 * num2\n",
    "print(f'A soma dos valores descritos é igual a: {mult}')"
   ]
  },
  {
   "cell_type": "markdown",
   "metadata": {},
   "source": [
    "**Questão 5**\n",
    "\n",
    "Crie um programa que solicite dois valores numéricos, um numerador e um denominador, e realize a divisão entre os dois valores.\n",
    "\n",
    " Deixe claro que o valor do denominador não pode ser 0.\n",
    "\n"
   ]
  },
  {
   "cell_type": "code",
   "execution_count": 25,
   "metadata": {},
   "outputs": [
    {
     "name": "stdout",
     "output_type": "stream",
     "text": [
      "===Realize uma divisão===\n",
      "\n",
      "Não se esqueça o denomindador deve ser diefernete de 0\n",
      "\n",
      "A soma dos valores descritos é igual a: 2.5\n"
     ]
    }
   ],
   "source": [
    "#Divisão\n",
    "print(\"=== Realize uma divisão ===\\n\")\n",
    "print(\"Não se esqueça o denomindador deve ser diefernete de 0\\n\")\n",
    "\n",
    "num1 = float(input(\"Insira um valor para ser o numerador\"))\n",
    "num2 = float(input(\"Insira outro valor para ser o denominador\"))\n",
    "div = num1 / num2\n",
    "\n",
    "print(f'A soma dos valores descritos é igual a: {div}')"
   ]
  },
  {
   "cell_type": "markdown",
   "metadata": {},
   "source": [
    "**Questão 6**\n",
    "\n",
    "Crie um programa que solicite dois valores numéricos, um operador e uma potência, e realize a exponenciação entre esses dois valores.\n"
   ]
  },
  {
   "cell_type": "code",
   "execution_count": null,
   "metadata": {},
   "outputs": [],
   "source": [
    "#Potenciação\n",
    "print(\"=== Realize uma potenciação ===\\n\")\n",
    "\n",
    "num1 = float(input(\"Insira um valor\"))\n",
    "num2 = float(input(\"Insira outro valor\"))\n",
    "expo = num1 ** num2\n",
    "\n",
    "print(f'A soma dos valores descritos é igual a: {expo}')"
   ]
  },
  {
   "cell_type": "markdown",
   "metadata": {},
   "source": [
    "**Questão 7**\n",
    "\n",
    "Crie um programa que solicite dois valores numéricos, um numerador e um denominador e realize a divisão inteira entre os dois valores.\n",
    "\n",
    " Deixe claro que o valor do denominador não pode ser 0.\n"
   ]
  },
  {
   "cell_type": "code",
   "execution_count": 24,
   "metadata": {},
   "outputs": [
    {
     "name": "stdout",
     "output_type": "stream",
     "text": [
      "===Realize uma divisão com números inteiros===\n",
      "\n",
      "Não se esqueça o denomindador deve ser diefernete de 0\n",
      "\n",
      "A soma dos valores descritos é igual a: 2\n"
     ]
    }
   ],
   "source": [
    "#Divisão c/Inteiros\n",
    "print(\"=== Realize uma divisão com números inteiros ===\\n\")\n",
    "print(\"Não se esqueça o denomindador deve ser diefernete de 0\\n\")\n",
    "\n",
    "num1 = int(input(\"Insira um valor para ser o numerador\"))\n",
    "num2 = int(input(\"Insira outro valor para ser o denominador\"))\n",
    "div = num1 // num2\n",
    "\n",
    "print(f'A soma dos valores descritos é igual a: {div}')"
   ]
  },
  {
   "cell_type": "markdown",
   "metadata": {},
   "source": [
    "**Questão 8**\n",
    "\n",
    "Crie um programa que solicite dois valores numéricos, um numerador e um denominador, e retorne o resto da divisão entre os dois valores.\n",
    "\n",
    " Deixe claro que o valor do denominador não pode ser 0.\n"
   ]
  },
  {
   "cell_type": "code",
   "execution_count": 26,
   "metadata": {},
   "outputs": [
    {
     "name": "stdout",
     "output_type": "stream",
     "text": [
      "===Encontre o resultado do resto da divisão===\n",
      "\n",
      "Não se esqueça o denomindador deve ser diefernete de 0\n",
      "\n",
      "A soma dos valores descritos é igual a: 1\n"
     ]
    }
   ],
   "source": [
    "#Resto divisão\n",
    "print(\"=== Encontre o resultado do resto da divisão ===\\n\")\n",
    "print(\"Não se esqueça o denomindador deve ser diefernete de 0\\n\")\n",
    "\n",
    "num1 = int(input(\"Insira um valor para ser o numerador\"))\n",
    "num2 = int(input(\"Insira outro valor para ser o denominador\"))\n",
    "div = num1 % num2\n",
    "\n",
    "print(f'A soma dos valores descritos é igual a: {div}')"
   ]
  },
  {
   "cell_type": "markdown",
   "metadata": {},
   "source": [
    "**Questão 9**\n",
    "\n",
    "Crie um código que solicita 3 notas de um estudante e imprima a média das notas.\n"
   ]
  },
  {
   "cell_type": "code",
   "execution_count": 36,
   "metadata": {},
   "outputs": [
    {
     "name": "stdout",
     "output_type": "stream",
     "text": [
      "=== Calcule aqui a sua media ===\n",
      "A sua média foi igual a 10.67\n"
     ]
    }
   ],
   "source": [
    "#Média das notas de um estudante\n",
    "print(\"=== Calcule aqui a sua media ===\")\n",
    "\n",
    "nota1 = float(input(\"Informe qual foi a sua 1° nota: \"))\n",
    "nota2 = float(input(\"Informe qual foi a sua 2° nota: \"))\n",
    "nota3 = float(input(\"Informe qual foi a sua 3° nota: \"))\n",
    "\n",
    "med= nota1+nota2 +nota3/3\n",
    "\n",
    "\n",
    "print(f'A sua média foi igual a %.2f' %(med))"
   ]
  },
  {
   "cell_type": "markdown",
   "metadata": {},
   "source": [
    "**Questão 10**\n",
    "\n",
    "Crie um código que calcule e imprima a média ponderada dos números 5, 12, 20 e 15 com pesos respectivamente iguais a 1, 2, 3 e 4."
   ]
  },
  {
   "cell_type": "code",
   "execution_count": 37,
   "metadata": {},
   "outputs": [
    {
     "name": "stdout",
     "output_type": "stream",
     "text": [
      "95.0\n"
     ]
    }
   ],
   "source": [
    "#Média ponderada\n",
    "print((5*1)+(12*2)+(20*3)+(15*4)/(1 + 2 + 3 + 4))"
   ]
  },
  {
   "cell_type": "markdown",
   "metadata": {},
   "source": [
    "### **Editando textos**"
   ]
  },
  {
   "cell_type": "markdown",
   "metadata": {},
   "source": [
    "**Questão 1**\n",
    "\n",
    "Crie uma variável chamada “frase” e atribua a ela uma string de sua escolha. Em seguida, imprima a frase na tela.\n"
   ]
  },
  {
   "cell_type": "code",
   "execution_count": 41,
   "metadata": {},
   "outputs": [
    {
     "name": "stdout",
     "output_type": "stream",
     "text": [
      " Ninguém nunca vai lhe contar\n",
      " Quando você quiser saber o motivo \n",
      " Eles apenas dizem que você agora está só\n",
      " Enchem a sua cabeça com mentiras\n",
      "\n"
     ]
    }
   ],
   "source": [
    "frase = \" Ninguém nunca vai lhe contar\\n Quando você quiser saber o motivo \\n Eles apenas dizem que você agora está só\\n Enchem a sua cabeça com mentiras\\n\"\n",
    "print(frase)"
   ]
  },
  {
   "cell_type": "markdown",
   "metadata": {},
   "source": [
    "**Questão 2**\n",
    "\n",
    "Crie um código que solicite uma frase e depois imprima a frase na tela.\n"
   ]
  },
  {
   "cell_type": "code",
   "execution_count": 43,
   "metadata": {},
   "outputs": [
    {
     "name": "stdout",
     "output_type": "stream",
     "text": [
      "Loud campeã do champions\n"
     ]
    }
   ],
   "source": [
    "frase = input(\"Insira uma frase para que seja impressa\")\n",
    "print(frase)"
   ]
  },
  {
   "cell_type": "markdown",
   "metadata": {},
   "source": [
    "**Questão 3**\n",
    "\n",
    "Crie um código que solicite uma frase à pessoa usuária e imprima a mesma frase digitada mas com todas as letras maiúsculas.\n"
   ]
  },
  {
   "cell_type": "code",
   "execution_count": 44,
   "metadata": {},
   "outputs": [
    {
     "name": "stdout",
     "output_type": "stream",
     "text": [
      "IKE LINDO\n"
     ]
    }
   ],
   "source": [
    "frase = input(\"Insira uma frase para que seja impressa\").upper()\n",
    "print(frase)"
   ]
  },
  {
   "cell_type": "markdown",
   "metadata": {},
   "source": [
    "**Questão 4**\n",
    "\n",
    "Crie um código que solicite uma frase à pessoa usuária e imprima a mesma frase digitada mas com todas as letras minúsculas.\n"
   ]
  },
  {
   "cell_type": "code",
   "execution_count": 1,
   "metadata": {},
   "outputs": [
    {
     "name": "stdout",
     "output_type": "stream",
     "text": [
      "loko\n"
     ]
    }
   ],
   "source": [
    "frase = input(\"Insira uma frase para que seja impressa\").lower()\n",
    "print(frase)"
   ]
  },
  {
   "cell_type": "markdown",
   "metadata": {},
   "source": [
    "**Questão 5**\n",
    "\n",
    "Crie uma variável chamada “frase” e atribua a ela uma string de sua escolha. Em seguida, imprima a frase sem espaços em branco no início e no fim.\n"
   ]
  },
  {
   "cell_type": "code",
   "execution_count": 2,
   "metadata": {},
   "outputs": [
    {
     "name": "stdout",
     "output_type": "stream",
     "text": [
      "iek\n"
     ]
    }
   ],
   "source": [
    "frase = input(\"Insira uma frase para que seja impressa\")\n",
    "frase.strip()"
   ]
  },
  {
   "cell_type": "markdown",
   "metadata": {},
   "source": [
    "**Questão 6**\n",
    "\n",
    "Crie um código que solicite uma frase à pessoa usuária e imprima a mesma frase sem espaços em branco no início e no fim."
   ]
  },
  {
   "cell_type": "code",
   "execution_count": null,
   "metadata": {},
   "outputs": [],
   "source": [
    "frase = input(\"Insira uma frase para que seja impressa\").strip()\n",
    "print(frase)"
   ]
  },
  {
   "cell_type": "markdown",
   "metadata": {},
   "source": [
    "**Questão 7**\n",
    "\n",
    "Crie um código que solicite uma frase à pessoa usuária e imprima a mesma frase sem espaços em branco no início e no fim e em letras minúsculas.\n"
   ]
  },
  {
   "cell_type": "code",
   "execution_count": null,
   "metadata": {},
   "outputs": [],
   "source": [
    "frase = input(\"Insira uma frase para que seja impressa\").strip().lower()\n",
    "print(frase)"
   ]
  },
  {
   "cell_type": "markdown",
   "metadata": {},
   "source": [
    "**Questão 8**\n",
    "\n",
    "Crie um código que solicite uma frase à pessoa usuária e imprima a mesma frase com todas as vogais “e” trocadas pela letra “f”.\n"
   ]
  },
  {
   "cell_type": "code",
   "execution_count": 3,
   "metadata": {},
   "outputs": [
    {
     "name": "stdout",
     "output_type": "stream",
     "text": [
      "flffantf\n"
     ]
    }
   ],
   "source": [
    "frase = input(\"Insira uma frase para que seja impressa\").replace('e', 'f')\n",
    "print(frase)"
   ]
  },
  {
   "cell_type": "markdown",
   "metadata": {},
   "source": [
    "**Questão 9**\n",
    "\n",
    "Crie um código que solicite uma frase à pessoa usuária e imprima a mesma frase com todas as vogais “a” trocadas pela caractere “@”."
   ]
  },
  {
   "cell_type": "code",
   "execution_count": 4,
   "metadata": {},
   "outputs": [
    {
     "name": "stdout",
     "output_type": "stream",
     "text": [
      "@b@c@te\n"
     ]
    }
   ],
   "source": [
    "frase = input(\"Insira uma frase para que seja impressa\").replace('a', '@')\n",
    "print(frase)"
   ]
  },
  {
   "cell_type": "markdown",
   "metadata": {},
   "source": [
    "**Questão 10**\n",
    "\n",
    "Crie um código que solicite uma frase à pessoa usuária e imprima a mesma frase com todas as consoantes “s” trocadas pelo caractere “$”.\n"
   ]
  },
  {
   "cell_type": "code",
   "execution_count": 5,
   "metadata": {},
   "outputs": [
    {
     "name": "stdout",
     "output_type": "stream",
     "text": [
      "$exta-feira\n"
     ]
    }
   ],
   "source": [
    "frase = input(\"Insira uma frase para que seja impressa\").replace('s', '$')\n",
    "print(frase)"
   ]
  },
  {
   "cell_type": "markdown",
   "metadata": {},
   "source": [
    " # <font color= darkmagenta> **Estrutura Condicional**"
   ]
  },
  {
   "cell_type": "markdown",
   "metadata": {},
   "source": [
    "ㅤ<font color = DeepPink>\n",
    "* ###  **if:**\n",
    "* ###  **Elif:**\n",
    "* ### **Else:**"
   ]
  },
  {
   "cell_type": "code",
   "execution_count": null,
   "metadata": {},
   "outputs": [],
   "source": [
    "media = float(\"Insira sua média: \")\n",
    "\n",
    "if media >= 6.0:             #Se x faça isso\n",
    "  print(\"Aprovado(a)\")\n",
    "elif 6.0 > media >= 4.0:     #Caso y faça outra coisa\n",
    "  print(\"Recuperação\")\n",
    "else:                        #Caso z faça alguma outra coisa\n",
    "  print(\"Reprovado(a)\")\n"
   ]
  },
  {
   "cell_type": "markdown",
   "metadata": {},
   "source": [
    "### **Aquecendo na programação**"
   ]
  },
  {
   "cell_type": "markdown",
   "metadata": {},
   "source": [
    "**Questão 1**\n",
    "\n",
    "Escreva um programa que peça à pessoa usuária para fornecer dois números e exibir o número maior."
   ]
  },
  {
   "cell_type": "code",
   "execution_count": 1,
   "metadata": {},
   "outputs": [
    {
     "name": "stdout",
     "output_type": "stream",
     "text": [
      "=== |Véja qual número é maio| ===\n",
      "\n",
      "O segundo número é o maior sendo ele: 8.0\n"
     ]
    }
   ],
   "source": []
  },
  {
   "cell_type": "markdown",
   "metadata": {},
   "source": [
    "**Questão 2**\n",
    "\n",
    "Escreva um programa que solicite o percentual de crescimento de produção de uma empresa e informe se houve um crescimento (porcentagem positiva) ou decrescimento (porcentagem negativa)."
   ]
  },
  {
   "cell_type": "code",
   "execution_count": 18,
   "metadata": {},
   "outputs": [
    {
     "name": "stdout",
     "output_type": "stream",
     "text": [
      "|Véja qual número é maio|\n",
      "\n",
      "Não houve crescimento nenhum\n"
     ]
    }
   ],
   "source": []
  },
  {
   "cell_type": "markdown",
   "metadata": {},
   "source": [
    "**Questão 3**\n",
    "\n",
    "Escreva um programa que determine se uma letra fornecida pela pessoa usuária é uma vogal ou consoante"
   ]
  },
  {
   "cell_type": "code",
   "execution_count": 40,
   "metadata": {},
   "outputs": [
    {
     "name": "stdout",
     "output_type": "stream",
     "text": [
      "A letra é uma consoante\n"
     ]
    }
   ],
   "source": [
    "\n",
    "letra = input(\"Insira uma letra para saber se ela é vogal ou consoante: \").lower()\n",
    "if letra == 'a':\n",
    "    print(\"A letra é uma vogal\")\n",
    "elif letra == 'e':\n",
    "    print(\"A letra é uma vogal\")\n",
    "elif letra == 'i':\n",
    "    print(\"A letra é uma vogal\")\n",
    "elif letra == 'o':\n",
    "    print(\"A letra é uma vogal\")\n",
    "elif letra == 'u':\n",
    "    print(\"A letra é uma vogal\")\n",
    "else:\n",
    "    print(\"A letra é uma consoante\")"
   ]
  },
  {
   "cell_type": "markdown",
   "metadata": {},
   "source": [
    "**Questão **"
   ]
  },
  {
   "cell_type": "code",
   "execution_count": null,
   "metadata": {},
   "outputs": [],
   "source": []
  },
  {
   "cell_type": "markdown",
   "metadata": {},
   "source": [
    "**Questão **"
   ]
  },
  {
   "cell_type": "markdown",
   "metadata": {},
   "source": [
    "**Questão **"
   ]
  },
  {
   "cell_type": "markdown",
   "metadata": {},
   "source": [
    "**Questão **"
   ]
  },
  {
   "cell_type": "markdown",
   "metadata": {},
   "source": [
    "**Questão **"
   ]
  },
  {
   "cell_type": "markdown",
   "metadata": {},
   "source": [
    "**Questão **"
   ]
  },
  {
   "cell_type": "markdown",
   "metadata": {},
   "source": [
    "**Questão **"
   ]
  },
  {
   "cell_type": "markdown",
   "metadata": {},
   "source": [
    "**Questão **"
   ]
  },
  {
   "cell_type": "markdown",
   "metadata": {},
   "source": [
    "\n"
   ]
  }
 ],
 "metadata": {
  "kernelspec": {
   "display_name": "Python 3",
   "language": "python",
   "name": "python3"
  },
  "language_info": {
   "codemirror_mode": {
    "name": "ipython",
    "version": 3
   },
   "file_extension": ".py",
   "mimetype": "text/x-python",
   "name": "python",
   "nbconvert_exporter": "python",
   "pygments_lexer": "ipython3",
   "version": "3.10.12"
  },
  "orig_nbformat": 4
 },
 "nbformat": 4,
 "nbformat_minor": 2
}
